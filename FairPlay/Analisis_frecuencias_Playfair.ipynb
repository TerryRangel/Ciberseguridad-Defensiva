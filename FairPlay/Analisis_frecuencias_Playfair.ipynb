{
 "cells": [
  {
   "cell_type": "markdown",
   "id": "bc5e3827",
   "metadata": {},
   "source": [
    "# Ataques estadisticos: Analisis de frecuencias"
   ]
  },
  {
   "cell_type": "markdown",
   "id": "3f906329",
   "metadata": {},
   "source": [
    "## Funciones auxiliares"
   ]
  },
  {
   "cell_type": "code",
   "execution_count": 1,
   "id": "1654d499",
   "metadata": {},
   "outputs": [],
   "source": [
    "def ngramas(texto, n):\n",
    "    \"\"\"Divide el texto en ngramas.\"\"\"\n",
    "    texto = texto.replace(\" \", \"\")\n",
    "    return [texto[i:i+n] for i in range(len(texto)-n+1)]"
   ]
  },
  {
   "cell_type": "code",
   "execution_count": 2,
   "id": "b4e4ecea",
   "metadata": {},
   "outputs": [],
   "source": [
    "from collections import Counter\n",
    "import pandas as pd\n",
    "\n",
    "def frec_ngramas(texto, n):\n",
    "    \"\"\"Calcula las frecuencias de los ngramas de un texto.\"\"\"\n",
    "    ng = ngramas(texto, n)\n",
    "    frecuencias = Counter(ng)\n",
    "    return pd.DataFrame(frecuencias.most_common(), columns=['letra', 'frecuencia'])"
   ]
  },
  {
   "cell_type": "code",
   "execution_count": 3,
   "id": "bf550387",
   "metadata": {},
   "outputs": [],
   "source": [
    "def leer_frecuencias(archivo):\n",
    "    \"\"\"Lee un fichero con las frecuencias de los ngramas para el idioma Espanol.\"\"\"\n",
    "    return pd.read_csv(archivo, sep=\" \", names=[\"letra\", \"frecuencia\"])"
   ]
  },
  {
   "cell_type": "code",
   "execution_count": 4,
   "id": "f89e98bc",
   "metadata": {},
   "outputs": [],
   "source": [
    "def leer_texto_cifrado(texto_cifrado, n):\n",
    "    \"\"\"Lee el texto cifrado y calcula las frecuencias de los ngramas.\"\"\"\n",
    "    with open(texto_cifrado) as f:\n",
    "        texto_cifrado = f.readlines()[0]\n",
    "    return frec_ngramas(texto_cifrado, n)"
   ]
  },
  {
   "cell_type": "markdown",
   "id": "e925d1f8",
   "metadata": {},
   "source": [
    "## Playfair Square"
   ]
  },
  {
   "cell_type": "markdown",
   "id": "9d0b49c1",
   "metadata": {},
   "source": [
    "| <!-- -->    | <!-- -->    | <!-- -->    | <!-- -->    | <!-- -->    |\n",
    "|-------------|-------------|-------------|-------------|-------------|\n",
    "| A           | M           | Q           | R           | U           |\n",
    "| L           | N           | B           | C           | O           |\n",
    "| I           | Y           | Z           | K           | W           |\n",
    "| P           | V           | F           | H           | T           |\n",
    "| G           | S           | X           | D           | E           |"
   ]
  },
  {
   "cell_type": "markdown",
   "id": "98c97f53",
   "metadata": {},
   "source": [
    "## Analisis Bigramas"
   ]
  },
  {
   "cell_type": "code",
   "execution_count": 5,
   "id": "f1cfca55",
   "metadata": {},
   "outputs": [
    {
     "data": {
      "text/html": [
       "<div>\n",
       "<style scoped>\n",
       "    .dataframe tbody tr th:only-of-type {\n",
       "        vertical-align: middle;\n",
       "    }\n",
       "\n",
       "    .dataframe tbody tr th {\n",
       "        vertical-align: top;\n",
       "    }\n",
       "\n",
       "    .dataframe thead th {\n",
       "        text-align: right;\n",
       "    }\n",
       "</style>\n",
       "<table border=\"1\" class=\"dataframe\">\n",
       "  <thead>\n",
       "    <tr style=\"text-align: right;\">\n",
       "      <th></th>\n",
       "      <th>letra</th>\n",
       "      <th>frecuencia</th>\n",
       "    </tr>\n",
       "  </thead>\n",
       "  <tbody>\n",
       "    <tr>\n",
       "      <th>0</th>\n",
       "      <td>EG</td>\n",
       "      <td>174</td>\n",
       "    </tr>\n",
       "    <tr>\n",
       "      <th>1</th>\n",
       "      <td>SO</td>\n",
       "      <td>141</td>\n",
       "    </tr>\n",
       "    <tr>\n",
       "      <th>2</th>\n",
       "      <td>UM</td>\n",
       "      <td>133</td>\n",
       "    </tr>\n",
       "    <tr>\n",
       "      <th>3</th>\n",
       "      <td>MG</td>\n",
       "      <td>132</td>\n",
       "    </tr>\n",
       "    <tr>\n",
       "      <th>4</th>\n",
       "      <td>OL</td>\n",
       "      <td>124</td>\n",
       "    </tr>\n",
       "    <tr>\n",
       "      <th>5</th>\n",
       "      <td>ML</td>\n",
       "      <td>120</td>\n",
       "    </tr>\n",
       "    <tr>\n",
       "      <th>6</th>\n",
       "      <td>LM</td>\n",
       "      <td>118</td>\n",
       "    </tr>\n",
       "    <tr>\n",
       "      <th>7</th>\n",
       "      <td>IL</td>\n",
       "      <td>115</td>\n",
       "    </tr>\n",
       "    <tr>\n",
       "      <th>8</th>\n",
       "      <td>GO</td>\n",
       "      <td>112</td>\n",
       "    </tr>\n",
       "    <tr>\n",
       "      <th>9</th>\n",
       "      <td>NE</td>\n",
       "      <td>97</td>\n",
       "    </tr>\n",
       "  </tbody>\n",
       "</table>\n",
       "</div>"
      ],
      "text/plain": [
       "  letra  frecuencia\n",
       "0    EG         174\n",
       "1    SO         141\n",
       "2    UM         133\n",
       "3    MG         132\n",
       "4    OL         124\n",
       "5    ML         120\n",
       "6    LM         118\n",
       "7    IL         115\n",
       "8    GO         112\n",
       "9    NE          97"
      ]
     },
     "execution_count": 5,
     "metadata": {},
     "output_type": "execute_result"
    }
   ],
   "source": [
    "bigramas_cifrado = leer_texto_cifrado('texto_cifrado.txt', 2)\n",
    "bigramas_cifrado.head(10)"
   ]
  },
  {
   "cell_type": "code",
   "execution_count": 6,
   "id": "3393fb52",
   "metadata": {},
   "outputs": [
    {
     "data": {
      "text/html": [
       "<div>\n",
       "<style scoped>\n",
       "    .dataframe tbody tr th:only-of-type {\n",
       "        vertical-align: middle;\n",
       "    }\n",
       "\n",
       "    .dataframe tbody tr th {\n",
       "        vertical-align: top;\n",
       "    }\n",
       "\n",
       "    .dataframe thead th {\n",
       "        text-align: right;\n",
       "    }\n",
       "</style>\n",
       "<table border=\"1\" class=\"dataframe\">\n",
       "  <thead>\n",
       "    <tr style=\"text-align: right;\">\n",
       "      <th></th>\n",
       "      <th>letra</th>\n",
       "      <th>frecuencia</th>\n",
       "    </tr>\n",
       "  </thead>\n",
       "  <tbody>\n",
       "    <tr>\n",
       "      <th>0</th>\n",
       "      <td>DE</td>\n",
       "      <td>2088635</td>\n",
       "    </tr>\n",
       "    <tr>\n",
       "      <th>1</th>\n",
       "      <td>ES</td>\n",
       "      <td>1882962</td>\n",
       "    </tr>\n",
       "    <tr>\n",
       "      <th>2</th>\n",
       "      <td>EN</td>\n",
       "      <td>1850294</td>\n",
       "    </tr>\n",
       "    <tr>\n",
       "      <th>3</th>\n",
       "      <td>EL</td>\n",
       "      <td>1638128</td>\n",
       "    </tr>\n",
       "    <tr>\n",
       "      <th>4</th>\n",
       "      <td>LA</td>\n",
       "      <td>1464005</td>\n",
       "    </tr>\n",
       "    <tr>\n",
       "      <th>5</th>\n",
       "      <td>OS</td>\n",
       "      <td>1460757</td>\n",
       "    </tr>\n",
       "    <tr>\n",
       "      <th>6</th>\n",
       "      <td>ON</td>\n",
       "      <td>1307790</td>\n",
       "    </tr>\n",
       "    <tr>\n",
       "      <th>7</th>\n",
       "      <td>AS</td>\n",
       "      <td>1268034</td>\n",
       "    </tr>\n",
       "    <tr>\n",
       "      <th>8</th>\n",
       "      <td>ER</td>\n",
       "      <td>1239281</td>\n",
       "    </tr>\n",
       "    <tr>\n",
       "      <th>9</th>\n",
       "      <td>RA</td>\n",
       "      <td>1197125</td>\n",
       "    </tr>\n",
       "  </tbody>\n",
       "</table>\n",
       "</div>"
      ],
      "text/plain": [
       "  letra  frecuencia\n",
       "0    DE     2088635\n",
       "1    ES     1882962\n",
       "2    EN     1850294\n",
       "3    EL     1638128\n",
       "4    LA     1464005\n",
       "5    OS     1460757\n",
       "6    ON     1307790\n",
       "7    AS     1268034\n",
       "8    ER     1239281\n",
       "9    RA     1197125"
      ]
     },
     "execution_count": 6,
     "metadata": {},
     "output_type": "execute_result"
    }
   ],
   "source": [
    "bigramas_es = leer_frecuencias(\"spanish_bigrams.txt\")\n",
    "bigramas_es.head(10)"
   ]
  }
 ],
 "metadata": {
  "kernelspec": {
   "display_name": "Python 3 (ipykernel)",
   "language": "python",
   "name": "python3"
  },
  "language_info": {
   "codemirror_mode": {
    "name": "ipython",
    "version": 3
   },
   "file_extension": ".py",
   "mimetype": "text/x-python",
   "name": "python",
   "nbconvert_exporter": "python",
   "pygments_lexer": "ipython3",
   "version": "3.11.2"
  }
 },
 "nbformat": 4,
 "nbformat_minor": 5
}
