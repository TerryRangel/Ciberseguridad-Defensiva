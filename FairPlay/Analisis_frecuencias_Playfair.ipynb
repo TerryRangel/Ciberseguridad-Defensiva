{
 "cells": [
  {
   "cell_type": "markdown",
   "id": "bc5e3827",
   "metadata": {},
   "source": [
    "# Ataques estadisticos: Analisis de frecuencias"
   ]
  },
  {
   "cell_type": "markdown",
   "id": "3f906329",
   "metadata": {},
   "source": [
    "## Funciones auxiliares"
   ]
  },
  {
   "cell_type": "code",
   "execution_count": null,
   "id": "1654d499",
   "metadata": {},
   "outputs": [
    {
     "ename": "",
     "evalue": "",
     "output_type": "error",
     "traceback": [
      "\u001b[1;31mRunning cells with 'Python 3.12.8' requires the ipykernel package.\n",
      "\u001b[1;31m<a href='command:jupyter.createPythonEnvAndSelectController'>Create a Python Environment</a> with the required packages."
     ]
    }
   ],
   "source": [
    "def ngramas(texto, n):\n",
    "    \"\"\"Divide el texto en ngramas.\"\"\"\n",
    "    texto = texto.replace(\" \", \"\")\n",
    "    return [texto[i:i+n] for i in range(len(texto)-n+1)]"
   ]
  },
  {
   "cell_type": "code",
   "execution_count": null,
   "id": "b4e4ecea",
   "metadata": {},
   "outputs": [],
   "source": [
    "from collections import Counter\n",
    "import pandas as pd\n",
    "\n",
    "def frec_ngramas(texto, n):\n",
    "    \"\"\"Calcula las frecuencias de los ngramas de un texto.\"\"\"\n",
    "    ng = ngramas(texto, n)\n",
    "    frecuencias = Counter(ng)\n",
    "    return pd.DataFrame(frecuencias.most_common(), columns=['letra', 'frecuencia'])"
   ]
  },
  {
   "cell_type": "code",
   "execution_count": null,
   "id": "bf550387",
   "metadata": {},
   "outputs": [],
   "source": [
    "def leer_frecuencias(archivo):\n",
    "    \"\"\"Lee un fichero con las frecuencias de los ngramas para el idioma Espanol.\"\"\"\n",
    "    return pd.read_csv(archivo, sep=\" \", names=[\"letra\", \"frecuencia\"])"
   ]
  },
  {
   "cell_type": "code",
   "execution_count": null,
   "id": "f89e98bc",
   "metadata": {},
   "outputs": [],
   "source": [
    "def leer_texto_cifrado(texto_cifrado, n):\n",
    "    \"\"\"Lee el texto cifrado y calcula las frecuencias de los ngramas.\"\"\"\n",
    "    with open(texto_cifrado) as f:\n",
    "        texto_cifrado = f.readlines()[0]\n",
    "    return frec_ngramas(texto_cifrado, n)"
   ]
  },
  {
   "cell_type": "markdown",
   "id": "e925d1f8",
   "metadata": {},
   "source": [
    "## Playfair Square"
   ]
  },
  {
   "cell_type": "markdown",
   "id": "9d0b49c1",
   "metadata": {},
   "source": [
    "| <!-- -->    | <!-- -->    | <!-- -->    | <!-- -->    | <!-- -->    |\n",
    "|-------------|-------------|-------------|-------------|-------------|\n",
    "| A           | M           | Q           | R           | U           |\n",
    "| L           | N           | B           | C           | O           |\n",
    "| I           | Y           | Z           | K           | W           |\n",
    "| P           | V           | F           | H           | T           |\n",
    "| G           | S           | X           | D           | E           |"
   ]
  },
  {
   "cell_type": "markdown",
   "id": "98c97f53",
   "metadata": {},
   "source": [
    "## Analisis Bigramas"
   ]
  },
  {
   "cell_type": "code",
   "execution_count": null,
   "id": "f1cfca55",
   "metadata": {},
   "outputs": [],
   "source": [
    "bigramas_cifrado = leer_texto_cifrado('texto_cifrado.txt', 2)\n",
    "bigramas_cifrado.head(10)"
   ]
  },
  {
   "cell_type": "code",
   "execution_count": null,
   "id": "3393fb52",
   "metadata": {},
   "outputs": [],
   "source": [
    "bigramas_es = leer_frecuencias(\"spanish_bigrams.txt\")\n",
    "bigramas_es.head(10)"
   ]
  }
 ],
 "metadata": {
  "kernelspec": {
   "display_name": "Python 3",
   "language": "python",
   "name": "python3"
  },
  "language_info": {
   "codemirror_mode": {
    "name": "ipython",
    "version": 3
   },
   "file_extension": ".py",
   "mimetype": "text/x-python",
   "name": "python",
   "nbconvert_exporter": "python",
   "pygments_lexer": "ipython3",
   "version": "3.12.8"
  }
 },
 "nbformat": 4,
 "nbformat_minor": 5
}
