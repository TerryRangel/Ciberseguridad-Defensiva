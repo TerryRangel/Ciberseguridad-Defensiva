{
 "cells": [
  {
   "cell_type": "markdown",
   "id": "bbae2bf7",
   "metadata": {},
   "source": [
    "# Ataques estadisticos: Analisis de frecuencias"
   ]
  },
  {
   "cell_type": "markdown",
   "id": "68253c5e",
   "metadata": {},
   "source": [
    "## Funciones auxiliares"
   ]
  },
  {
   "cell_type": "code",
   "execution_count": null,
   "id": "cbb109bd",
   "metadata": {},
   "outputs": [],
   "source": [
    "def ngramas(texto, n):\n",
    "    \"\"\"Divide el texto en ngramas\"\"\"\n",
    "    texto = texto.replace(\" \", \"\")\n",
    "    return [texto[i:i+n] for i in range(len(texto)-n+1)]"
   ]
  },
  {
   "cell_type": "code",
   "execution_count": null,
   "id": "70b9de2c",
   "metadata": {},
   "outputs": [],
   "source": [
    "from collections import Counter\n",
    "import pandas as pd\n",
    "\n",
    "def frec_ngramas(texto, n):\n",
    "    \"\"\"Calcula las frecuencias de los ngramas de un texto.\"\"\"\n",
    "    ng = ngramas(texto, n)\n",
    "    frecuencias = Counter(ng)\n",
    "    return pd.DataFrame(frecuencias.most_common(), columns=['letra','frecuencia'])"
   ]
  },
  {
   "cell_type": "code",
   "execution_count": null,
   "id": "bd02e252",
   "metadata": {},
   "outputs": [],
   "source": [
    "def leer_frecuencias(archivo):\n",
    "    \"\"\"Lee un fichero con las frecuencias de los ngramas en espanol.\"\"\"\n",
    "    return pd.read_csv(archivo, sep=\" \", names=[\"letra\", \"frecuencia\"])"
   ]
  },
  {
   "cell_type": "code",
   "execution_count": null,
   "id": "889cc204",
   "metadata": {},
   "outputs": [],
   "source": [
    "def leer_texto_cifrado(texto_cifrado, n):\n",
    "    \"\"\"Lee el texto cifrado y calcula las frecuencias de los ngramas.\"\"\"\n",
    "    with open(texto_cifrado) as f:\n",
    "        texto_cifrado = f.readlines()[0]\n",
    "    return frec_ngramas(texto_cifrado, n)"
   ]
  },
  {
   "cell_type": "markdown",
   "id": "7ebd0cd2",
   "metadata": {},
   "source": [
    "## Analisis de Monogramas (letras)"
   ]
  },
  {
   "cell_type": "code",
   "execution_count": null,
   "id": "df1a4569",
   "metadata": {},
   "outputs": [],
   "source": [
    "monogramas_es = leer_frecuencias(\"spanish_monograms.txt\")"
   ]
  },
  {
   "cell_type": "code",
   "execution_count": null,
   "id": "284c4c3e",
   "metadata": {},
   "outputs": [],
   "source": [
    "monogramas_es.head(10)"
   ]
  },
  {
   "cell_type": "code",
   "execution_count": null,
   "id": "f9f005a5",
   "metadata": {},
   "outputs": [],
   "source": [
    "monogramas_es.plot('letra', 'frecuencia', kind='bar')"
   ]
  },
  {
   "cell_type": "code",
   "execution_count": null,
   "id": "06b65ffd",
   "metadata": {},
   "outputs": [],
   "source": [
    "monogramas_cifrado = leer_texto_cifrado('texto_cifrado.txt', 1)"
   ]
  },
  {
   "cell_type": "code",
   "execution_count": null,
   "id": "79f58986",
   "metadata": {},
   "outputs": [],
   "source": [
    "monogramas_cifrado.head(10)"
   ]
  },
  {
   "cell_type": "code",
   "execution_count": null,
   "id": "d5fdf758",
   "metadata": {},
   "outputs": [],
   "source": [
    "monogramas_cifrado.plot('letra', 'frecuencia', kind='bar')"
   ]
  },
  {
   "cell_type": "markdown",
   "id": "cbba3f27",
   "metadata": {},
   "source": [
    "## Analisis de Bigramas"
   ]
  },
  {
   "cell_type": "code",
   "execution_count": null,
   "id": "7ba6d8cc",
   "metadata": {},
   "outputs": [],
   "source": [
    "bigramas_es = leer_frecuencias(\"spanish_bigrams.txt\")\n",
    "bigramas_es.head(10)"
   ]
  },
  {
   "cell_type": "code",
   "execution_count": null,
   "id": "368ffcea",
   "metadata": {},
   "outputs": [],
   "source": [
    "bigramas_cifrado = leer_texto_cifrado('texto_cifrado.txt', 2)\n",
    "bigramas_cifrado.head(10)"
   ]
  },
  {
   "cell_type": "markdown",
   "id": "c632677f",
   "metadata": {},
   "source": [
    "## Analisis de Trigramas"
   ]
  },
  {
   "cell_type": "code",
   "execution_count": null,
   "id": "c35fbf60",
   "metadata": {},
   "outputs": [],
   "source": [
    "trigramas_es = leer_frecuencias(\"spanish_trigrams.txt\")\n",
    "trigramas_es.head(40)"
   ]
  },
  {
   "cell_type": "code",
   "execution_count": null,
   "id": "dc773cc8",
   "metadata": {},
   "outputs": [],
   "source": [
    "trigramas_cifrado = leer_texto_cifrado('texto_cifrado.txt', 3)\n",
    "trigramas_cifrado.head(10)"
   ]
  },
  {
   "cell_type": "markdown",
   "id": "8f6dcb0b",
   "metadata": {},
   "source": [
    "## Analisis Cuatrigramas"
   ]
  },
  {
   "cell_type": "code",
   "execution_count": null,
   "id": "39a352c8",
   "metadata": {},
   "outputs": [],
   "source": [
    "cuatrigramas_es = leer_frecuencias(\"spanish_quadgrams.txt\")\n",
    "cuatrigramas_es.head(30)"
   ]
  },
  {
   "cell_type": "code",
   "execution_count": null,
   "id": "ef0248e4",
   "metadata": {},
   "outputs": [],
   "source": [
    "cuatrigramas_cifrado = leer_texto_cifrado('texto_cifrado.txt', 4)\n",
    "cuatrigramas_cifrado.head(20)"
   ]
  },
  {
   "cell_type": "markdown",
   "id": "eb589226",
   "metadata": {},
   "source": [
    "## Alfabeto permutado (clave)"
   ]
  },
  {
   "cell_type": "code",
   "execution_count": null,
   "id": "f2100482",
   "metadata": {},
   "outputs": [],
   "source": [
    "alfabeto_permutado = {\n",
    "     'a': 'u',\n",
    "     'b': 'q',\n",
    "     'c': 't',\n",
    "     'd': 'f',\n",
    "     'e': 'v',\n",
    "     'f': 'n',\n",
    "     'g': 'r',\n",
    "     'h': 'a',\n",
    "     'i': 'x',\n",
    "     'j': 'b',\n",
    "     'k': 'd',\n",
    "     'l': 'e',\n",
    "     'm': 'y',\n",
    "     'n': 'j',\n",
    "     'o': 'p',\n",
    "     'p': 'c',\n",
    "     'q': 'h',\n",
    "     'r': 'z',\n",
    "     's': 'k',\n",
    "     't': 'i',\n",
    "     'u': 'l',\n",
    "     'v': 's',\n",
    "     'w': 'g',\n",
    "     'x': 'o',\n",
    "     'y': 'w',\n",
    "     'z': 'm'\n",
    "}"
   ]
  },
  {
   "cell_type": "code",
   "execution_count": null,
   "id": "c8e5fa12",
   "metadata": {},
   "outputs": [],
   "source": [
    "import string\n",
    "\n",
    "{letra:None for letra in string.ascii_lowercase}"
   ]
  },
  {
   "cell_type": "markdown",
   "id": "7292192e",
   "metadata": {},
   "source": [
    "## Algoritmo de descifrado"
   ]
  },
  {
   "cell_type": "code",
   "execution_count": null,
   "id": "94a5b581",
   "metadata": {},
   "outputs": [],
   "source": [
    "def algoritmo_descifrado(texto_cifrado, alfabeto_permutado):\n",
    "    \"\"\"Descifra el texto cifrado a partir de la clave de descifrado.\"\"\"\n",
    "    texto_plano = \"\"\n",
    "    with open(texto_cifrado) as f:\n",
    "        texto_cifrado = f.readlines()[0]\n",
    "        \n",
    "    for letra in texto_cifrado:\n",
    "        if not alfabeto_permutado[letra.lower()]:\n",
    "            texto_plano += letra\n",
    "        else:\n",
    "            texto_plano += alfabeto_permutado[letra.lower()]\n",
    "    return texto_plano"
   ]
  },
  {
   "cell_type": "code",
   "execution_count": null,
   "id": "e921cf26",
   "metadata": {},
   "outputs": [],
   "source": [
    "algoritmo_descifrado('texto_cifrado.txt', alfabeto_permutado)"
   ]
  },
  {
   "cell_type": "code",
   "execution_count": null,
   "id": "0dc5952e",
   "metadata": {},
   "outputs": [],
   "source": []
  }
 ],
 "metadata": {
  "kernelspec": {
   "display_name": "Python 3 (ipykernel)",
   "language": "python",
   "name": "python3"
  },
  "language_info": {
   "codemirror_mode": {
    "name": "ipython",
    "version": 3
   },
   "file_extension": ".py",
   "mimetype": "text/x-python",
   "name": "python",
   "nbconvert_exporter": "python",
   "pygments_lexer": "ipython3",
   "version": "3.8.5"
  }
 },
 "nbformat": 4,
 "nbformat_minor": 5
}
