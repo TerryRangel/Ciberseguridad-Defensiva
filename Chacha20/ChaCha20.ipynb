{
 "cells": [
  {
   "cell_type": "markdown",
   "id": "a01c19e8",
   "metadata": {},
   "source": [
    "## Pregunta 1\n",
    "\n",
    "Desarrolla un programa en el lenguaje de programación de preferencia que utilice una librería externa que implemente ChaCha20. Utiliza ChaCha20 para cifrar el siguiente mensaje utilizando los siguientes parámetros:\n",
    "\n",
    "Texto plano: Este es un mensaje secreto que quiero cifrar.\n",
    "\n",
    "Clave de cifrado: b'z\\xe8~\"\\xcayW\\x14g\\x18+\\x1c+\\xf9\\x80\\x06P\\x9ej\\x888\\xb4G\\xdf\\xe4\\xc50,\\x8dY\\x80\\x19'\n",
    "\n",
    "Nonce: b'\\xd6\\x7f6\\xc7\\xe8i*\\xa4'\n",
    "\n",
    "\n",
    "\n",
    "**¿Cuál es el texto cifrado resultante? (PISTA: Recuerda que no debes implementar el algoritmo de cifrado de ChaCha20, en Python puede utilizarse la librería externa pycryptodome)**"
   ]
  },
  {
   "cell_type": "code",
   "execution_count": 1,
   "id": "944f8f73",
   "metadata": {},
   "outputs": [],
   "source": [
    "from Crypto.Cipher import ChaCha20"
   ]
  },
  {
   "cell_type": "code",
   "execution_count": 2,
   "id": "4f88d63a",
   "metadata": {},
   "outputs": [],
   "source": [
    "clave_cifrado = b'z\\xe8~\"\\xcayW\\x14g\\x18+\\x1c+\\xf9\\x80\\x06P\\x9ej\\x888\\xb4G\\xdf\\xe4\\xc50,\\x8dY\\x80\\x19'"
   ]
  },
  {
   "cell_type": "code",
   "execution_count": 3,
   "id": "f021c6c5",
   "metadata": {},
   "outputs": [],
   "source": [
    "nonce = b'\\xd6\\x7f6\\xc7\\xe8i*\\xa4'"
   ]
  },
  {
   "cell_type": "code",
   "execution_count": 4,
   "id": "dd283b45",
   "metadata": {},
   "outputs": [],
   "source": [
    "texto_plano = b\"Este es un mensaje secreto que quiero cifrar.\""
   ]
  },
  {
   "cell_type": "code",
   "execution_count": 5,
   "id": "6a5326bd",
   "metadata": {},
   "outputs": [],
   "source": [
    "chacha20_cipher = ChaCha20.new(key=clave_cifrado, nonce=nonce)"
   ]
  },
  {
   "cell_type": "code",
   "execution_count": 6,
   "id": "f0986d94",
   "metadata": {},
   "outputs": [
    {
     "data": {
      "text/plain": [
       "b'Ehq0\\x83\\xcb\\x8fo\\xab\\xed\\xd0S\\x06\\xcc\\xbb\\xecw\\xe9\\xec(\\x1f\\xc5E\\xdb\\x88\\x18`W\\xc3yQn\\xad3\\xec.\\x08\\x92\\x9f\\x92\\xb8w\\x8a\\r\\xfb'"
      ]
     },
     "execution_count": 6,
     "metadata": {},
     "output_type": "execute_result"
    }
   ],
   "source": [
    "chacha20_cipher.encrypt(texto_plano)"
   ]
  },
  {
   "cell_type": "markdown",
   "id": "81e73abe",
   "metadata": {},
   "source": [
    "## Pregunta 2\n",
    "\n",
    "Teniendo en cuenta la implementación realizada en el punto anterior, responde a las siguientes preguntas:\n",
    "\n",
    "¿Qué tamaño tiene el nonce que has utilizado para cifrar el texto plano?\n",
    "\n",
    "¿Puedes utilizar un nonce de mayor tamaño (ej. 12 bytes o 16 bytes)?\n",
    "\n",
    "¿Qué implicaciones de seguridad tiene utilizar un nonce de mayor tamaño?"
   ]
  },
  {
   "cell_type": "code",
   "execution_count": 7,
   "id": "6606065a",
   "metadata": {},
   "outputs": [
    {
     "name": "stdout",
     "output_type": "stream",
     "text": [
      "8\n"
     ]
    }
   ],
   "source": [
    "# Tamano del nonce\n",
    "print(len(nonce))"
   ]
  },
  {
   "cell_type": "code",
   "execution_count": 8,
   "id": "2e928b09",
   "metadata": {},
   "outputs": [],
   "source": [
    "from Crypto.Random import get_random_bytes\n",
    "\n",
    "# Nonce de 12 bytes\n",
    "nonce = get_random_bytes(12)"
   ]
  },
  {
   "cell_type": "code",
   "execution_count": 9,
   "id": "c2fa2f56",
   "metadata": {},
   "outputs": [],
   "source": [
    "chacha20_cipher = ChaCha20.new(key=clave_cifrado, nonce=nonce)"
   ]
  },
  {
   "cell_type": "code",
   "execution_count": 10,
   "id": "51fd9a4a",
   "metadata": {},
   "outputs": [
    {
     "data": {
      "text/plain": [
       "b'\\xe2\\xe8\\xad\\xd0y\\xa66\\xf0\\xf2\\x90\\x1d\\x1f\\xcd\\xe1;\\x08Xi3\\xe7\\x1bD\\xceQ\\xb8}\\x8f\\xc4g\\x169\\xae\\x136=)\\xa6\\xaf\\x90\\xd5G\\xb8\\xf3>='"
      ]
     },
     "execution_count": 10,
     "metadata": {},
     "output_type": "execute_result"
    }
   ],
   "source": [
    "chacha20_cipher.encrypt(texto_plano)"
   ]
  },
  {
   "cell_type": "markdown",
   "id": "f719aca8",
   "metadata": {},
   "source": [
    "## Pregunta 3\n",
    "\n",
    "Añade al programa que has desarrollado la funcionalidad de descifrado. Utiliza esta funcionalidad para descifrar el siguiente texto cifrado. \n",
    "\n",
    "Ten en cuenta que se ha utilizado la misma clave y el mismo nonce que en el apartado anterior: b'Ehq0\\x83\\xcb\\x8fo\\xab\\xed\\xd0S\\x06\\xcc\\xbb\\xecw\\xe9\\xec(\\x1f\\xc5E\\xdb\\x88\\x18\\`W\\xc3yQn\\xad3\\xec.\\x08\\x92\\x8d\\x8e\\xbb%\\x8f\\x1a\\xa6\\xc9=\\x15\\x0f5\\xaa'\n",
    "\n",
    "**¿Cuál es el texto plano resultante?**"
   ]
  },
  {
   "cell_type": "code",
   "execution_count": 11,
   "id": "804cfc2b",
   "metadata": {},
   "outputs": [],
   "source": [
    "texto_cifrado = b'Ehq0\\x83\\xcb\\x8fo\\xab\\xed\\xd0S\\x06\\xcc\\xbb\\xecw\\xe9\\xec(\\x1f\\xc5E\\xdb\\x88\\x18`W\\xc3yQn\\xad3\\xec.\\x08\\x92\\x8d\\x8e\\xbb%\\x8f\\x1a\\xa6\\xc9=\\x15\\x0f5\\xaa'"
   ]
  },
  {
   "cell_type": "code",
   "execution_count": 12,
   "id": "12f40bc4",
   "metadata": {},
   "outputs": [],
   "source": [
    "clave_cifrado = b'z\\xe8~\"\\xcayW\\x14g\\x18+\\x1c+\\xf9\\x80\\x06P\\x9ej\\x888\\xb4G\\xdf\\xe4\\xc50,\\x8dY\\x80\\x19'"
   ]
  },
  {
   "cell_type": "code",
   "execution_count": 13,
   "id": "8ea714dc",
   "metadata": {},
   "outputs": [],
   "source": [
    "nonce = b'\\xd6\\x7f6\\xc7\\xe8i*\\xa4'"
   ]
  },
  {
   "cell_type": "code",
   "execution_count": 14,
   "id": "4618b8a2",
   "metadata": {},
   "outputs": [],
   "source": [
    "chacha20_cipher = ChaCha20.new(key=clave_cifrado, nonce=nonce)"
   ]
  },
  {
   "cell_type": "code",
   "execution_count": 15,
   "id": "445fbe02",
   "metadata": {},
   "outputs": [
    {
     "data": {
      "text/plain": [
       "b'Este es un mensaje secreto que quiero que descifres'"
      ]
     },
     "execution_count": 15,
     "metadata": {},
     "output_type": "execute_result"
    }
   ],
   "source": [
    "chacha20_cipher.decrypt(texto_cifrado)"
   ]
  },
  {
   "cell_type": "markdown",
   "id": "0a2505dd",
   "metadata": {},
   "source": [
    "## Pregunta 4\n",
    "\n",
    "Por último, suponemos que el receptor nos ha enviado un mensaje cifrado con la clave y el nonce mostrados anteriormente, sin embargo, se ha producido un error en la transmisión y se han perdido los 8 primeros bytes del texto cifrado. Esto supone que nuestro keystream y el del receptor no están sincronizados. El texto cifrado que hemos recibido es el siguiente: b\"\\xad\\xe2\\x9a[C\\xca\\xa9\\xadn\\xf9\\xaa)\\x13\\xc2X\\x9e\\x89\\x19`C\\xc4n\\x1em\\xf8?\\xe7|\\x0b\\xd3\\xdc\\x8f\\xacd\\x85\\x0c\\xb8\\xc3'\\x1a\\x12>\"\n",
    "\n",
    "\n",
    "\n",
    "Descifra el texto cifrado que se ha recibido. Recuerda el conceto de counter y busca el método de la librería ChaCha20 que estés utilizando para sincronizar nuestro keystream con el del receptor. **¿Cuál es el texto plano resultante?**"
   ]
  },
  {
   "cell_type": "code",
   "execution_count": 16,
   "id": "ac4fbcaa",
   "metadata": {},
   "outputs": [],
   "source": [
    "texto_cifrado_perdida = b\"\\xad\\xe2\\x9a[C\\xca\\xa9\\xadn\\xf9\\xaa)\\x13\\xc2X\\x9e\\x89\\x19`C\\xc4n\\x1em\\xf8?\\xe7|\\x0b\\xd3\\xdc\\x8f\\xacd\\x85\\x0c\\xb8\\xc3'\\x1a\\x12>\""
   ]
  },
  {
   "cell_type": "code",
   "execution_count": 17,
   "id": "c0f7a94a",
   "metadata": {},
   "outputs": [
    {
     "data": {
      "text/plain": [
       "b'\\xa0G\\x9bu\\xc4\\xc2\\x8b\\xefU[\\xd9<#\\x11tja\\xaeE\\xaa\\xd8\\x97\\x0f\\xdf\\x02O\\x9c@\\xff\\xecG\\xb0\\xd1u\\xf6\\x13\\xb0g\\x9c\\x95\\xbb\\xfd'"
      ]
     },
     "execution_count": 17,
     "metadata": {},
     "output_type": "execute_result"
    }
   ],
   "source": [
    "# Descifrado con error\n",
    "chacha20_cipher.decrypt(texto_cifrado_perdida)"
   ]
  },
  {
   "cell_type": "code",
   "execution_count": 18,
   "id": "5e49ed41",
   "metadata": {},
   "outputs": [],
   "source": [
    "# Avanzamos en el keystream hasta el byte 8\n",
    "chacha20_cipher.seek(8)"
   ]
  },
  {
   "cell_type": "code",
   "execution_count": 19,
   "id": "e0916d06",
   "metadata": {},
   "outputs": [
    {
     "data": {
      "text/plain": [
       "b'saje ha sufrido un error en la transmision'"
      ]
     },
     "execution_count": 19,
     "metadata": {},
     "output_type": "execute_result"
    }
   ],
   "source": [
    "chacha20_cipher.decrypt(texto_cifrado_perdida)"
   ]
  },
  {
   "cell_type": "code",
   "execution_count": null,
   "id": "4a966932",
   "metadata": {},
   "outputs": [],
   "source": []
  }
 ],
 "metadata": {
  "kernelspec": {
   "display_name": "Python 3 (ipykernel)",
   "language": "python",
   "name": "python3"
  },
  "language_info": {
   "codemirror_mode": {
    "name": "ipython",
    "version": 3
   },
   "file_extension": ".py",
   "mimetype": "text/x-python",
   "name": "python",
   "nbconvert_exporter": "python",
   "pygments_lexer": "ipython3",
   "version": "3.11.2"
  }
 },
 "nbformat": 4,
 "nbformat_minor": 5
}
